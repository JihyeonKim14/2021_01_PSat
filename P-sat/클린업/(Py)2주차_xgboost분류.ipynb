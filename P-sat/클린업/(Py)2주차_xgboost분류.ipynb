{
  "nbformat": 4,
  "nbformat_minor": 0,
  "metadata": {
    "colab": {
      "name": "(Py)2주차_xgboost분류.ipynb",
      "provenance": []
    },
    "kernelspec": {
      "name": "python3",
      "display_name": "Python 3"
    }
  },
  "cells": [
    {
      "cell_type": "code",
      "metadata": {
        "id": "HVYVLMX4-p5Q"
      },
      "source": [
        "#먼저 필요한 데이터셋 호출\r\n",
        "from sklearn.datasets import load_breast_cancer"
      ],
      "execution_count": 1,
      "outputs": []
    },
    {
      "cell_type": "code",
      "metadata": {
        "id": "8ZbPH3a8_HJX"
      },
      "source": [
        "cancer=load_breast_cancer()\r\n",
        "\r\n",
        "X=cancer.data\r\n",
        "y=cancer.target"
      ],
      "execution_count": 2,
      "outputs": []
    },
    {
      "cell_type": "code",
      "metadata": {
        "id": "QjLiqlog_MeX"
      },
      "source": [
        "#모델,train-test-split,평가지표 라이브러리 불러오기\r\n",
        "import xgboost as xgb\r\n",
        "from sklearn.model_selection import train_test_split\r\n",
        "from sklearn.metrics import confusion_matrix"
      ],
      "execution_count": 5,
      "outputs": []
    },
    {
      "cell_type": "code",
      "metadata": {
        "id": "VvdCdcY6Bx6W"
      },
      "source": [
        "#시간도 재볼까? xgboost 엄청 빨라서 그렇게 의미가 있을까 싶지만\r\n",
        "import time"
      ],
      "execution_count": 14,
      "outputs": []
    },
    {
      "cell_type": "code",
      "metadata": {
        "id": "pZ3pQBcQA4pH"
      },
      "source": [
        "X_train, X_test, y_train, y_test=train_test_split(X,y,test_size=0.2,random_state=2021)"
      ],
      "execution_count": 6,
      "outputs": []
    },
    {
      "cell_type": "code",
      "metadata": {
        "colab": {
          "base_uri": "https://localhost:8080/"
        },
        "id": "_O2vbuqJBFp-",
        "outputId": "40fd1efe-8e07-47af-ec28-110a0c7aa9f0"
      },
      "source": [
        "print(X_train.shape)\r\n",
        "print(X_test.shape)"
      ],
      "execution_count": 7,
      "outputs": [
        {
          "output_type": "stream",
          "text": [
            "(455, 30)\n",
            "(114, 30)\n"
          ],
          "name": "stdout"
        }
      ]
    },
    {
      "cell_type": "code",
      "metadata": {
        "id": "pTBqD970_coV"
      },
      "source": [
        "#모델 학습시키기\r\n",
        "#공식 문서 참고: https://xgboost.readthedocs.io/en/latest/parameter.html\r\n",
        "#https://xgboost.readthedocs.io/en/latest/python/python_api.html\r\n",
        "\r\n",
        "xgb_model=xgb.XGBClassifier(objective='binary:logistic', random_state=2021,\r\n",
        "                            learning_rate=0.2)\r\n",
        "start=time.time()\r\n",
        "xgb_model.fit(X_train,y_train)\r\n",
        "end=time.time()\r\n",
        "y_pred=xgb_model.predict(X_test)"
      ],
      "execution_count": 15,
      "outputs": []
    },
    {
      "cell_type": "code",
      "metadata": {
        "colab": {
          "base_uri": "https://localhost:8080/"
        },
        "id": "5l9jcZdaBVpV",
        "outputId": "54a740e1-1f7a-4253-efbf-17a880792c5c"
      },
      "source": [
        "print(confusion_matrix(y_test,y_pred))"
      ],
      "execution_count": 16,
      "outputs": [
        {
          "output_type": "stream",
          "text": [
            "[[38  4]\n",
            " [ 1 71]]\n"
          ],
          "name": "stdout"
        }
      ]
    },
    {
      "cell_type": "code",
      "metadata": {
        "colab": {
          "base_uri": "https://localhost:8080/"
        },
        "id": "SJHIBGf_CBA-",
        "outputId": "c9e18310-9996-4654-ba56-6af969afe8fc"
      },
      "source": [
        "elapsed=end-start\r\n",
        "print(elapsed)"
      ],
      "execution_count": 17,
      "outputs": [
        {
          "output_type": "stream",
          "text": [
            "0.07623815536499023\n"
          ],
          "name": "stdout"
        }
      ]
    }
  ]
}